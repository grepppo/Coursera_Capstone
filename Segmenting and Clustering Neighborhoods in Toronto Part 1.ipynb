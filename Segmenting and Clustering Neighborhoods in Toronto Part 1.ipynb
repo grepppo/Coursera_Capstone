{
 "cells": [
  {
   "cell_type": "code",
   "execution_count": 27,
   "metadata": {},
   "outputs": [],
   "source": [
    "import pandas as pd\n",
    "import numpy as np"
   ]
  },
  {
   "cell_type": "code",
   "execution_count": 28,
   "metadata": {},
   "outputs": [],
   "source": [
    "#Scraping the Values from the Wikipedia change\n",
    "url = 'https://en.wikipedia.org/wiki/List_of_postal_codes_of_Canada:_M'\n",
    "dfs = pd.read_html(url)\n",
    "pc = dfs[0]"
   ]
  },
  {
   "cell_type": "code",
   "execution_count": 29,
   "metadata": {},
   "outputs": [],
   "source": [
    "#Removing Not Assigned Boroughs\n",
    "post_codes = pc.loc[(pc.Borough != 'Not assigned')]\n",
    "\n",
    "#Updating Column Names\n",
    "post_codes.columns = ['PostalCode', 'Borough', 'Neighbourhood']\n",
    "\n",
    "#Defaulting Nos assigned Neighbourhood to Borough Values\n",
    "post_codes.Neighbourhood = np.where(post_codes.Neighbourhood == 'Not assigned', post_codes.Borough, post_codes.Neighbourhood)\n",
    "\n",
    "#Skipping the step to merger post code records, as this case is no longer present in the source data "
   ]
  },
  {
   "cell_type": "code",
   "execution_count": 30,
   "metadata": {},
   "outputs": [
    {
     "data": {
      "text/plain": [
       "(103, 3)"
      ]
     },
     "execution_count": 30,
     "metadata": {},
     "output_type": "execute_result"
    }
   ],
   "source": [
    "post_codes.shape"
   ]
  },
  {
   "cell_type": "code",
   "execution_count": null,
   "metadata": {},
   "outputs": [],
   "source": []
  }
 ],
 "metadata": {
  "kernelspec": {
   "display_name": "Python 3",
   "language": "python",
   "name": "python3"
  },
  "language_info": {
   "codemirror_mode": {
    "name": "ipython",
    "version": 3
   },
   "file_extension": ".py",
   "mimetype": "text/x-python",
   "name": "python",
   "nbconvert_exporter": "python",
   "pygments_lexer": "ipython3",
   "version": "3.7.6"
  }
 },
 "nbformat": 4,
 "nbformat_minor": 4
}
